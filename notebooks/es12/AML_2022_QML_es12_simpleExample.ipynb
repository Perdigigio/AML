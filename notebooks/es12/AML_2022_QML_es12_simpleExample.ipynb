{
  "nbformat": 4,
  "nbformat_minor": 0,
  "metadata": {
    "colab": {
      "name": "AML_2022_QML_es12_simpleExample.ipynb",
      "provenance": [],
      "authorship_tag": "ABX9TyMlct1xLzKR/YrZnR/eqcNj",
      "include_colab_link": true
    },
    "kernelspec": {
      "name": "python3",
      "display_name": "Python 3"
    },
    "language_info": {
      "name": "python"
    },
    "accelerator": "GPU"
  },
  "cells": [
    {
      "cell_type": "markdown",
      "metadata": {
        "id": "view-in-github",
        "colab_type": "text"
      },
      "source": [
        "<a href=\"https://colab.research.google.com/github/stefanogiagu/corso_AML_2022/blob/main/notebooks/es12/AML_2022_QML_es12_simpleExample.ipynb\" target=\"_parent\"><img src=\"https://colab.research.google.com/assets/colab-badge.svg\" alt=\"Open In Colab\"/></a>"
      ]
    },
    {
      "cell_type": "markdown",
      "source": [
        "# Advanced Machine Learning for Physics 2021-2022\n",
        "## Hands-on session 12\n",
        "\n",
        "Simple QML example\n",
        "\n",
        "Pennylane library demo: https://pennylane.ai/qml/demos/tutorial_isingmodel_PyTorch.html\n",
        "\n",
        "References:\n",
        "* Maria Schuld and Francesco Petruccione. “Supervised Learning with Quantum Computers.” Springer, 2018.\n",
        "* Andrew Lucas. “Ising formulations of many NP problems.” arXiv:1302.5843, 2014.\n",
        "* Gary Kochenberger et al. “The Unconstrained Binary Quadratic Programming Problem: A Survey.” Journal of Combinatorial Optimization, 2014."
      ],
      "metadata": {
        "id": "xMkFCIU-KDMm"
      }
    },
    {
      "cell_type": "code",
      "execution_count": null,
      "metadata": {
        "colab": {
          "base_uri": "https://localhost:8080/"
        },
        "id": "Hsoc7u8KThlR",
        "outputId": "03d2a9a0-8351-4321-d3c7-9482608ba01e"
      },
      "outputs": [
        {
          "output_type": "stream",
          "name": "stdout",
          "text": [
            "Looking in indexes: https://pypi.org/simple, https://us-python.pkg.dev/colab-wheels/public/simple/\n",
            "Collecting pennylane\n",
            "  Downloading PennyLane-0.23.1-py3-none-any.whl (914 kB)\n",
            "\u001b[K     |████████████████████████████████| 914 kB 25.2 MB/s \n",
            "\u001b[?25hRequirement already satisfied: networkx in /usr/local/lib/python3.7/dist-packages (from pennylane) (2.6.3)\n",
            "Requirement already satisfied: autograd in /usr/local/lib/python3.7/dist-packages (from pennylane) (1.4)\n",
            "Collecting retworkx\n",
            "  Downloading retworkx-0.11.0-cp37-cp37m-manylinux_2_5_x86_64.manylinux1_x86_64.manylinux_2_12_x86_64.manylinux2010_x86_64.whl (1.6 MB)\n",
            "\u001b[K     |████████████████████████████████| 1.6 MB 9.5 MB/s \n",
            "\u001b[?25hCollecting semantic-version==2.6\n",
            "  Downloading semantic_version-2.6.0-py3-none-any.whl (14 kB)\n",
            "Collecting autoray>=0.3.1\n",
            "  Downloading autoray-0.3.1-py3-none-any.whl (36 kB)\n",
            "Collecting pennylane-lightning>=0.23\n",
            "  Downloading PennyLane_Lightning-0.23.0-cp37-cp37m-manylinux_2_17_x86_64.manylinux2014_x86_64.whl (8.8 MB)\n",
            "\u001b[K     |████████████████████████████████| 8.8 MB 51.6 MB/s \n",
            "\u001b[?25hRequirement already satisfied: scipy in /usr/local/lib/python3.7/dist-packages (from pennylane) (1.4.1)\n",
            "Requirement already satisfied: appdirs in /usr/local/lib/python3.7/dist-packages (from pennylane) (1.4.4)\n",
            "Requirement already satisfied: numpy in /usr/local/lib/python3.7/dist-packages (from pennylane) (1.21.6)\n",
            "Collecting toml\n",
            "  Downloading toml-0.10.2-py2.py3-none-any.whl (16 kB)\n",
            "Requirement already satisfied: cachetools in /usr/local/lib/python3.7/dist-packages (from pennylane) (4.2.4)\n",
            "Collecting ninja\n",
            "  Downloading ninja-1.10.2.3-py2.py3-none-manylinux_2_5_x86_64.manylinux1_x86_64.whl (108 kB)\n",
            "\u001b[K     |████████████████████████████████| 108 kB 56.9 MB/s \n",
            "\u001b[?25hRequirement already satisfied: future>=0.15.2 in /usr/local/lib/python3.7/dist-packages (from autograd->pennylane) (0.16.0)\n",
            "Installing collected packages: ninja, toml, semantic-version, retworkx, pennylane-lightning, autoray, pennylane\n",
            "Successfully installed autoray-0.3.1 ninja-1.10.2.3 pennylane-0.23.1 pennylane-lightning-0.23.0 retworkx-0.11.0 semantic-version-2.6.0 toml-0.10.2\n"
          ]
        }
      ],
      "source": [
        "# install pennylane libraries\n",
        "!pip install pennylane --upgrade"
      ]
    },
    {
      "cell_type": "markdown",
      "source": [
        "This basic tutorial optimizes a 3-qubit Ising model using the PennyLane default.qubit device with PyTorch. In the absence of external fields, the Hamiltonian for this system is given by: \n",
        "\n",
        "$H = - \\sum_{<i,j>}J_{ij}\\sigma_i\\sigma_j$\n",
        "\n",
        "where each spin can be in the +1 or -1 spin state and $J_{ij}$ are the nearest-neighbour coupling strengths.\n",
        "\n",
        "For simplicity, the first spin can be assumed to be in the “up” state (+1 eigenstate of Pauli-Z operator) and the coupling matrix can be set to $J=[1,-1]$. The rotation angles for the other two spins are then optimized so that the energy of the system is minimized for the given couplings."
      ],
      "metadata": {
        "id": "jZkFQQ92USff"
      }
    },
    {
      "cell_type": "code",
      "source": [
        "import torch\n",
        "from torch.autograd import Variable\n",
        "import pennylane as qml\n",
        "from pennylane import numpy as np"
      ],
      "metadata": {
        "id": "9Kjs9bwbTq3n"
      },
      "execution_count": null,
      "outputs": []
    },
    {
      "cell_type": "code",
      "source": [
        "# A three-qubit quantum circuit is initialized to represent the three spins:\n",
        "\n",
        "dev = qml.device(\"default.qubit\", wires=3)\n",
        "\n",
        "@qml.qnode(dev, interface=\"torch\")\n",
        "def circuit(p1, p2):\n",
        "    # We use the general Rot(phi,theta,omega,wires) single-qubit operation\n",
        "    qml.Rot(p1[0], p1[1], p1[2], wires=1)\n",
        "    qml.Rot(p2[0], p2[1], p2[2], wires=2)\n",
        "    return [qml.expval(qml.PauliZ(i)) for i in range(3)]\n"
      ],
      "metadata": {
        "id": "Epu9M-VLUvf9"
      },
      "execution_count": null,
      "outputs": []
    },
    {
      "cell_type": "code",
      "source": [
        "# The cost function to be minimized is defined as the energy of the spin configuration:\n",
        "\n",
        "def cost(var1, var2):\n",
        "    # the circuit function returns a numpy array of Pauli-Z expectation values\n",
        "    spins = circuit(var1, var2)\n",
        "\n",
        "    # the expectation value of Pauli-Z is +1 for spin up and -1 for spin down\n",
        "    energy = -(1 * spins[0] * spins[1]) - (-1 * spins[1] * spins[2])\n",
        "    return energy"
      ],
      "metadata": {
        "id": "9OU5D5YWVCee"
      },
      "execution_count": null,
      "outputs": []
    },
    {
      "cell_type": "markdown",
      "source": [
        "Let’s test the functions above using the $[s_1,s_2,s_3] = [1,-1,-1]$ spin configuration and the given coupling matrix. The total energy for this Ising model should be:\n",
        "\n",
        "$H = -1(J_1s_1\\otimes s_2 + J_2s_2\\otimes s_3)=2$\n"
      ],
      "metadata": {
        "id": "xU__gn-lVSOR"
      }
    },
    {
      "cell_type": "code",
      "source": [
        "test1 = torch.tensor([0, np.pi, 0])\n",
        "test2 = torch.tensor([0, np.pi, 0])\n",
        "\n",
        "cost_check = cost(test1, test2)\n",
        "print(\"Energy for [1, -1, -1] spin configuration:\", cost_check.item())"
      ],
      "metadata": {
        "colab": {
          "base_uri": "https://localhost:8080/"
        },
        "id": "M-McDYaoVPTk",
        "outputId": "96ea1987-9610-4439-b5e3-6ba0053313f5"
      },
      "execution_count": null,
      "outputs": [
        {
          "output_type": "stream",
          "name": "stdout",
          "text": [
            "Energy for [1, -1, -1] spin configuration: 2.0000000000000036\n"
          ]
        }
      ]
    },
    {
      "cell_type": "code",
      "source": [
        "# random initialization\n",
        "\n",
        "torch.manual_seed(56)\n",
        "p1 = Variable((np.pi * torch.rand(3, dtype=torch.float64)), requires_grad=True)\n",
        "p2 = Variable((np.pi * torch.rand(3, dtype=torch.float64)), requires_grad=True)\n",
        "\n",
        "var_init = [p1, p2]\n",
        "cost_init = cost(p1, p2)\n",
        "\n",
        "print(\"Randomly initialized angles:\")\n",
        "print(p1)\n",
        "print(p2)\n",
        "print(\"Corresponding cost before optimization:\")\n",
        "print(cost_init.item())"
      ],
      "metadata": {
        "colab": {
          "base_uri": "https://localhost:8080/"
        },
        "id": "Lewrt3A5V-bI",
        "outputId": "61c87426-4e77-4801-c03a-d23d98f54f64"
      },
      "execution_count": null,
      "outputs": [
        {
          "output_type": "stream",
          "name": "stdout",
          "text": [
            "Randomly initialized angles:\n",
            "tensor([1.9632, 2.6022, 2.3277], dtype=torch.float64, requires_grad=True)\n",
            "tensor([0.6521, 2.8474, 2.4300], dtype=torch.float64, requires_grad=True)\n",
            "Corresponding cost before optimization:\n",
            "1.679212961854227\n"
          ]
        }
      ]
    },
    {
      "cell_type": "code",
      "source": [
        "# optimization: e.g.  use the PyTorch gradient descent optimizer to minimize the cost\n",
        "\n",
        "opt = torch.optim.SGD(var_init, lr=0.1)\n",
        "\n",
        "def closure(): #function (closure) that reevaluates the model and returns the loss\n",
        "    opt.zero_grad() #sets all the gradients back to zero\n",
        "    loss = cost(p1, p2)\n",
        "    loss.backward() #computes the gradient of the cost function with respect to all parameters with requires_grad=True.\n",
        "    return loss\n",
        "\n",
        "var_pt = [var_init]\n",
        "cost_pt = [cost_init]\n",
        "x = [0]\n",
        "\n",
        "for i in range(100):\n",
        "    opt.step(closure) #performs the parameter update based on this current gradient and the learning rate.\n",
        "    if (i + 1) % 5 == 0:\n",
        "        x.append(i)\n",
        "        p1n, p2n = opt.param_groups[0][\"params\"]\n",
        "        costn = cost(p1n, p2n)\n",
        "        var_pt.append([p1n, p2n])\n",
        "        cost_pt.append(costn)\n",
        "\n",
        "        # for clarity, the angles are printed as numpy arrays\n",
        "        print(\"Energy after step {:5d}: {: .7f} | Angles: {}\".format(\n",
        "            i+1, costn, [p1n.detach().numpy(), p2n.detach().numpy()]),\"\\n\"\n",
        "        )\n",
        "\n"
      ],
      "metadata": {
        "colab": {
          "base_uri": "https://localhost:8080/"
        },
        "id": "5ufjLGs7WQFE",
        "outputId": "38e100a6-0e1e-4cf0-e68c-e84cff484606"
      },
      "execution_count": null,
      "outputs": [
        {
          "output_type": "stream",
          "name": "stdout",
          "text": [
            "Energy after step     5:  0.6846474 | Angles: [array([1.96323939, 1.93604492, 2.32767565]), array([0.65212549, 2.73080219, 2.4299563 ])] \n",
            "\n",
            "Energy after step    10: -1.0138530 | Angles: [array([1.96323939, 1.0136468 , 2.32767565]), array([0.65212549, 2.73225282, 2.4299563 ])] \n",
            "\n",
            "Energy after step    15: -1.8171995 | Angles: [array([1.96323939, 0.38483073, 2.32767565]), array([0.65212549, 2.85992571, 2.4299563 ])] \n",
            "\n",
            "Energy after step    20: -1.9686584 | Angles: [array([1.96323939, 0.13026452, 2.32767565]), array([0.65212549, 2.97097572, 2.4299563 ])] \n",
            "\n",
            "Energy after step    25: -1.9930403 | Angles: [array([1.96323939, 0.04302756, 2.32767565]), array([0.65212549, 3.04042222, 2.4299563 ])] \n",
            "\n",
            "Energy after step    30: -1.9980133 | Angles: [array([1.96323939, 0.01413292, 2.32767565]), array([0.65212549, 3.08179844, 2.4299563 ])] \n",
            "\n",
            "Energy after step    35: -1.9993550 | Angles: [array([1.96323939, 0.00463472, 2.32767565]), array([0.65212549, 3.10627578, 2.4299563 ])] \n",
            "\n",
            "Energy after step    40: -1.9997802 | Angles: [array([1.96323939e+00, 1.51911413e-03, 2.32767565e+00]), array([0.65212549, 3.12073668, 2.4299563 ])] \n",
            "\n",
            "Energy after step    45: -1.9999239 | Angles: [array([1.96323939e+00, 4.97829828e-04, 2.32767565e+00]), array([0.65212549, 3.12927707, 2.4299563 ])] \n",
            "\n",
            "Energy after step    50: -1.9999735 | Angles: [array([1.96323939e+00, 1.63134183e-04, 2.32767565e+00]), array([0.65212549, 3.13432035, 2.4299563 ])] \n",
            "\n",
            "Energy after step    55: -1.9999908 | Angles: [array([1.96323939e+00, 5.34564150e-05, 2.32767565e+00]), array([0.65212549, 3.13729842, 2.4299563 ])] \n",
            "\n",
            "Energy after step    60: -1.9999968 | Angles: [array([1.96323939e+00, 1.75166673e-05, 2.32767565e+00]), array([0.65212549, 3.13905695, 2.4299563 ])] \n",
            "\n",
            "Energy after step    65: -1.9999989 | Angles: [array([1.96323939e+00, 5.73986944e-06, 2.32767565e+00]), array([0.65212549, 3.14009534, 2.4299563 ])] \n",
            "\n",
            "Energy after step    70: -1.9999996 | Angles: [array([1.96323939e+00, 1.88084132e-06, 2.32767565e+00]), array([0.65212549, 3.14070851, 2.4299563 ])] \n",
            "\n",
            "Energy after step    75: -1.9999999 | Angles: [array([1.96323939e+00, 6.16314188e-07, 2.32767565e+00]), array([0.65212549, 3.14107057, 2.4299563 ])] \n",
            "\n",
            "Energy after step    80: -2.0000000 | Angles: [array([1.96323939e+00, 2.01953845e-07, 2.32767565e+00]), array([0.65212549, 3.14128437, 2.4299563 ])] \n",
            "\n",
            "Energy after step    85: -2.0000000 | Angles: [array([1.96323939e+00, 6.61762372e-08, 2.32767565e+00]), array([0.65212549, 3.14141062, 2.4299563 ])] \n",
            "\n",
            "Energy after step    90: -2.0000000 | Angles: [array([1.96323939e+00, 2.16846296e-08, 2.32767565e+00]), array([0.65212549, 3.14148516, 2.4299563 ])] \n",
            "\n",
            "Energy after step    95: -2.0000000 | Angles: [array([1.96323939e+00, 7.10561943e-09, 2.32767565e+00]), array([0.65212549, 3.14152918, 2.4299563 ])] \n",
            "\n",
            "Energy after step   100: -2.0000000 | Angles: [array([1.96323939e+00, 2.32836938e-09, 2.32767565e+00]), array([0.65212549, 3.14155517, 2.4299563 ])] \n",
            "\n"
          ]
        }
      ]
    },
    {
      "cell_type": "markdown",
      "source": [
        "as expected the minimum energy is -2 for the spin configuration $[s_1,s_2,s_3] = [1,1,-1]$ which corresponds to $(\\phi,\\theta,\\omega)=(0,0,0)$ for the second spin and $(\\phi,\\theta,\\omega)=(0,\\pi,0)$ for the third spin. \n",
        "\n",
        "Note that gradient descent optimization might not find this global minimum due to the non-convex cost function, as is shown in the next section..."
      ],
      "metadata": {
        "id": "SUOtWhuuX0dG"
      }
    },
    {
      "cell_type": "code",
      "source": [
        "p1_final, p2_final = opt.param_groups[0][\"params\"]\n",
        "print(\"Optimized angles:\")\n",
        "print(p1_final)\n",
        "print(p2_final)\n",
        "print(\"Final cost after optimization:\")\n",
        "print(cost(p1_final, p2_final))"
      ],
      "metadata": {
        "colab": {
          "base_uri": "https://localhost:8080/"
        },
        "id": "IMnRAKCdXz0x",
        "outputId": "ba9c1b4a-6f49-42d6-a6df-ff6f7f255064"
      },
      "execution_count": null,
      "outputs": [
        {
          "output_type": "stream",
          "name": "stdout",
          "text": [
            "Optimized angles:\n",
            "tensor([1.9632e+00, 2.3284e-09, 2.3277e+00], dtype=torch.float64,\n",
            "       requires_grad=True)\n",
            "tensor([0.6521, 3.1416, 2.4300], dtype=torch.float64, requires_grad=True)\n",
            "Final cost after optimization:\n",
            "tensor(-2.0000, dtype=torch.float64, grad_fn=<SubBackward0>)\n"
          ]
        }
      ]
    },
    {
      "cell_type": "code",
      "source": [
        "import matplotlib\n",
        "import matplotlib.pyplot as plt\n",
        "\n",
        "fig = plt.figure(figsize=(6, 4))\n",
        "\n",
        "# Enable processing the Torch trainable tensors\n",
        "with torch.no_grad():\n",
        "    plt.plot(x, cost_pt, label = 'global minimum')\n",
        "    plt.xlabel(\"Optimization steps\")\n",
        "    plt.ylabel(\"Cost / Energy\")\n",
        "    plt.legend()\n",
        "    plt.show()"
      ],
      "metadata": {
        "colab": {
          "base_uri": "https://localhost:8080/",
          "height": 279
        },
        "id": "giVo1iTQYWW4",
        "outputId": "75daf7dd-2aac-406f-8223-482e180a6aa7"
      },
      "execution_count": null,
      "outputs": [
        {
          "output_type": "display_data",
          "data": {
            "text/plain": [
              "<Figure size 432x288 with 1 Axes>"
            ],
            "image/png": "[encoded data removed]"
          },
          "metadata": {
            "needs_background": "light"
          }
        }
      ]
    },
    {
      "cell_type": "code",
      "source": [
        "#If the spins are initialized close to the local minimum of zero energy, \n",
        "#the optimizer is likely to get stuck here and never find the global minimum at -2.\n",
        "\n",
        "torch.manual_seed(9)\n",
        "p3 = Variable((np.pi*torch.rand(3, dtype = torch.float64)), requires_grad = True)\n",
        "p4 = Variable((np.pi*torch.rand(3, dtype = torch.float64)), requires_grad = True)\n",
        "\n",
        "var_init_loc = [p3, p4]\n",
        "cost_init_loc = cost(p3, p4)\n",
        "\n",
        "print(\"Corresponding cost before optimization:\")\n",
        "print(cost_init_loc)"
      ],
      "metadata": {
        "colab": {
          "base_uri": "https://localhost:8080/"
        },
        "id": "rhdEdvlsYb7F",
        "outputId": "b2ec718f-75ba-4d4b-8d53-0e6be4f4679d"
      },
      "execution_count": null,
      "outputs": [
        {
          "output_type": "stream",
          "name": "stdout",
          "text": [
            "Corresponding cost before optimization:\n",
            "tensor(0.0082, dtype=torch.float64, grad_fn=<SubBackward0>)\n"
          ]
        }
      ]
    },
    {
      "cell_type": "code",
      "source": [
        "opt = torch.optim.SGD(var_init_loc, lr = 0.1)\n",
        "\n",
        "def closure():\n",
        "    opt.zero_grad()\n",
        "    loss = cost(p3, p4)\n",
        "    loss.backward()\n",
        "    return loss\n",
        "\n",
        "var_pt_loc = [var_init_loc]\n",
        "cost_pt_loc = [cost_init_loc]\n",
        "\n",
        "for j in range(100):\n",
        "    opt.step(closure)\n",
        "    if (j + 1) % 5 == 0:\n",
        "        p3n, p4n = opt.param_groups[0]['params']\n",
        "        costn = cost(p3n, p4n)\n",
        "        var_pt_loc.append([p3n, p4n])\n",
        "        cost_pt_loc.append(costn)\n",
        "\n",
        "        # for clarity, the angles are printed as numpy arrays\n",
        "        print('Energy after step {:5d}: {: .7f} | Angles: {}'.format(\n",
        "            j+1, costn, [p3n.detach().numpy(), p4n.detach().numpy()]),\"\\n\"\n",
        "        )\n"
      ],
      "metadata": {
        "colab": {
          "base_uri": "https://localhost:8080/"
        },
        "id": "ztpx6X9QYjR6",
        "outputId": "cff71204-f7c3-4687-8d2d-9ef1611c05e2"
      },
      "execution_count": null,
      "outputs": [
        {
          "output_type": "stream",
          "name": "stdout",
          "text": [
            "Energy after step     5:  0.0032761 | Angles: [array([0.77369911, 2.63471297, 1.07981163]), array([0.26038622, 0.08659858, 1.91060734])] \n",
            "\n",
            "Energy after step    10:  0.0013137 | Angles: [array([0.77369911, 2.63406019, 1.07981163]), array([0.26038622, 0.05483683, 1.91060734])] \n",
            "\n",
            "Energy after step    15:  0.0005266 | Angles: [array([0.77369911, 2.63379816, 1.07981163]), array([0.26038622, 0.03471974, 1.91060734])] \n",
            "\n",
            "Energy after step    20:  0.0002111 | Angles: [array([0.77369911, 2.63369307, 1.07981163]), array([0.26038622, 0.02198151, 1.91060734])] \n",
            "\n",
            "Energy after step    25:  0.0000846 | Angles: [array([0.77369911, 2.63365094, 1.07981163]), array([0.26038622, 0.01391648, 1.91060734])] \n",
            "\n",
            "Energy after step    30:  0.0000339 | Angles: [array([0.77369911, 2.63363405, 1.07981163]), array([0.26038622, 0.00881044, 1.91060734])] \n",
            "\n",
            "Energy after step    35:  0.0000136 | Angles: [array([0.77369911, 2.63362729, 1.07981163]), array([0.26038622, 0.00557782, 1.91060734])] \n",
            "\n",
            "Energy after step    40:  0.0000054 | Angles: [array([0.77369911, 2.63362457, 1.07981163]), array([0.26038622, 0.00353126, 1.91060734])] \n",
            "\n",
            "Energy after step    45:  0.0000022 | Angles: [array([0.77369911, 2.63362348, 1.07981163]), array([0.26038622, 0.00223561, 1.91060734])] \n",
            "\n",
            "Energy after step    50:  0.0000009 | Angles: [array([0.77369911, 2.63362305, 1.07981163]), array([2.60386222e-01, 1.41534339e-03, 1.91060734e+00])] \n",
            "\n",
            "Energy after step    55:  0.0000004 | Angles: [array([0.77369911, 2.63362287, 1.07981163]), array([2.60386222e-01, 8.96040252e-04, 1.91060734e+00])] \n",
            "\n",
            "Energy after step    60:  0.0000001 | Angles: [array([0.77369911, 2.6336228 , 1.07981163]), array([2.60386222e-01, 5.67274421e-04, 1.91060734e+00])] \n",
            "\n",
            "Energy after step    65:  0.0000001 | Angles: [array([0.77369911, 2.63362278, 1.07981163]), array([2.60386222e-01, 3.59135947e-04, 1.91060734e+00])] \n",
            "\n",
            "Energy after step    70:  0.0000000 | Angles: [array([0.77369911, 2.63362276, 1.07981163]), array([2.60386222e-01, 2.27365491e-04, 1.91060734e+00])] \n",
            "\n",
            "Energy after step    75:  0.0000000 | Angles: [array([0.77369911, 2.63362276, 1.07981163]), array([2.60386222e-01, 1.43942891e-04, 1.91060734e+00])] \n",
            "\n",
            "Energy after step    80:  0.0000000 | Angles: [array([0.77369911, 2.63362276, 1.07981163]), array([2.60386222e-01, 9.11288509e-05, 1.91060734e+00])] \n",
            "\n",
            "Energy after step    85:  0.0000000 | Angles: [array([0.77369911, 2.63362276, 1.07981163]), array([2.60386222e-01, 5.76927932e-05, 1.91060734e+00])] \n",
            "\n",
            "Energy after step    90:  0.0000000 | Angles: [array([0.77369911, 2.63362276, 1.07981163]), array([2.60386222e-01, 3.65247488e-05, 1.91060734e+00])] \n",
            "\n",
            "Energy after step    95:  0.0000000 | Angles: [array([0.77369911, 2.63362276, 1.07981163]), array([2.60386222e-01, 2.31234648e-05, 1.91060734e+00])] \n",
            "\n",
            "Energy after step   100:  0.0000000 | Angles: [array([0.77369911, 2.63362276, 1.07981163]), array([2.60386222e-01, 1.46392417e-05, 1.91060734e+00])] \n",
            "\n"
          ]
        }
      ]
    },
    {
      "cell_type": "code",
      "source": [
        "fig = plt.figure(figsize=(6, 4))\n",
        "\n",
        "# Enable processing the Torch trainable tensors\n",
        "with torch.no_grad():\n",
        "    plt.plot(x, cost_pt_loc, 'r', label = 'local minimum')\n",
        "    plt.xlabel(\"Optimization steps\")\n",
        "    plt.ylabel(\"Cost / Energy\")\n",
        "    plt.legend()\n",
        "    plt.show()"
      ],
      "metadata": {
        "colab": {
          "base_uri": "https://localhost:8080/",
          "height": 279
        },
        "id": "UwQ_KHqgYnlu",
        "outputId": "18a7d976-8dad-49b5-d6f3-20c0c345fa1f"
      },
      "execution_count": null,
      "outputs": [
        {
          "output_type": "display_data",
          "data": {
            "text/plain": [
              "<Figure size 432x288 with 1 Axes>"
            ],
            "image/png": "[encoded data removed]"
          },
          "metadata": {
            "needs_background": "light"
          }
        }
      ]
    }
  ]
}