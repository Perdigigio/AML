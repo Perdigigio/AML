{
  "cells": [
    {
      "cell_type": "markdown",
      "metadata": {
        "id": "view-in-github",
        "colab_type": "text"
      },
      "source": [
        "<a href=\"https://colab.research.google.com/github/stefanogiagu/corso_AML_2022/blob/main/notebooks/es8/example_GNN_torchgeometric.ipynb\" target=\"_parent\"><img src=\"https://colab.research.google.com/assets/colab-badge.svg\" alt=\"Open In Colab\"/></a>"
      ]
    },
    {
      "cell_type": "markdown",
      "metadata": {
        "tags": [],
        "id": "zqsKj2BShaIU"
      },
      "source": [
        "# Advanced Machine Learning for Physics 2021-2022\n",
        "\n",
        "### example implementation of a simple GNN with pytorch geometric\n",
        "\n",
        "code and figures from S.Raschka et al ML with pytorch course (2022)."
      ]
    },
    {
      "cell_type": "code",
      "source": [
        "# install needed libraries (assume troch 1.11.0 + cuda 11.3)\n",
        "!pip install torch-scatter torch-sparse torch-cluster torch-spline-conv torch-geometric -f https://data.pyg.org/whl/torch-1.11.0+cu113.html"
      ],
      "metadata": {
        "colab": {
          "base_uri": "https://localhost:8080/"
        },
        "id": "dsOYaX1OiWfX",
        "outputId": "5ecba8cf-4144-4b53-da5c-6eb73d8da8cf"
      },
      "execution_count": 8,
      "outputs": [
        {
          "output_type": "stream",
          "name": "stdout",
          "text": [
            "Looking in links: https://data.pyg.org/whl/torch-1.11.0+cu113.html\n",
            "Collecting torch-scatter\n",
            "  Downloading https://data.pyg.org/whl/torch-1.11.0%2Bcu113/torch_scatter-2.0.9-cp37-cp37m-linux_x86_64.whl (7.9 MB)\n",
            "\u001b[K     |████████████████████████████████| 7.9 MB 8.4 MB/s \n",
            "\u001b[?25hCollecting torch-sparse\n",
            "  Downloading https://data.pyg.org/whl/torch-1.11.0%2Bcu113/torch_sparse-0.6.13-cp37-cp37m-linux_x86_64.whl (3.5 MB)\n",
            "\u001b[K     |████████████████████████████████| 3.5 MB 39.6 MB/s \n",
            "\u001b[?25hCollecting torch-cluster\n",
            "  Downloading https://data.pyg.org/whl/torch-1.11.0%2Bcu113/torch_cluster-1.6.0-cp37-cp37m-linux_x86_64.whl (2.5 MB)\n",
            "\u001b[K     |████████████████████████████████| 2.5 MB 48.0 MB/s \n",
            "\u001b[?25hCollecting torch-spline-conv\n",
            "  Downloading https://data.pyg.org/whl/torch-1.11.0%2Bcu113/torch_spline_conv-1.2.1-cp37-cp37m-linux_x86_64.whl (750 kB)\n",
            "\u001b[K     |████████████████████████████████| 750 kB 40.7 MB/s \n",
            "\u001b[?25hRequirement already satisfied: torch-geometric in /usr/local/lib/python3.7/dist-packages (2.0.5)\n",
            "Requirement already satisfied: scipy in /usr/local/lib/python3.7/dist-packages (from torch-sparse) (1.4.1)\n",
            "Requirement already satisfied: tqdm in /usr/local/lib/python3.7/dist-packages (from torch-geometric) (4.64.0)\n",
            "Requirement already satisfied: requests in /usr/local/lib/python3.7/dist-packages (from torch-geometric) (2.23.0)\n",
            "Requirement already satisfied: jinja2 in /usr/local/lib/python3.7/dist-packages (from torch-geometric) (2.11.3)\n",
            "Requirement already satisfied: numpy in /usr/local/lib/python3.7/dist-packages (from torch-geometric) (1.21.6)\n",
            "Requirement already satisfied: pyparsing in /usr/local/lib/python3.7/dist-packages (from torch-geometric) (3.0.8)\n",
            "Requirement already satisfied: scikit-learn in /usr/local/lib/python3.7/dist-packages (from torch-geometric) (1.0.2)\n",
            "Requirement already satisfied: MarkupSafe>=0.23 in /usr/local/lib/python3.7/dist-packages (from jinja2->torch-geometric) (2.0.1)\n",
            "Requirement already satisfied: certifi>=2017.4.17 in /usr/local/lib/python3.7/dist-packages (from requests->torch-geometric) (2021.10.8)\n",
            "Requirement already satisfied: chardet<4,>=3.0.2 in /usr/local/lib/python3.7/dist-packages (from requests->torch-geometric) (3.0.4)\n",
            "Requirement already satisfied: urllib3!=1.25.0,!=1.25.1,<1.26,>=1.21.1 in /usr/local/lib/python3.7/dist-packages (from requests->torch-geometric) (1.24.3)\n",
            "Requirement already satisfied: idna<3,>=2.5 in /usr/local/lib/python3.7/dist-packages (from requests->torch-geometric) (2.10)\n",
            "Requirement already satisfied: joblib>=0.11 in /usr/local/lib/python3.7/dist-packages (from scikit-learn->torch-geometric) (1.1.0)\n",
            "Requirement already satisfied: threadpoolctl>=2.0.0 in /usr/local/lib/python3.7/dist-packages (from scikit-learn->torch-geometric) (3.1.0)\n",
            "Installing collected packages: torch-spline-conv, torch-sparse, torch-scatter, torch-cluster\n",
            "Successfully installed torch-cluster-1.6.0 torch-scatter-2.0.9 torch-sparse-0.6.13 torch-spline-conv-1.2.1\n"
          ]
        }
      ]
    },
    {
      "cell_type": "code",
      "execution_count": 10,
      "metadata": {
        "colab": {
          "base_uri": "https://localhost:8080/"
        },
        "id": "sScqo8U_haIc",
        "outputId": "4ff72aba-cbc4-4a23-a8c5-1bcd62a8426e"
      },
      "outputs": [
        {
          "output_type": "stream",
          "name": "stdout",
          "text": [
            "1.11.0+cu113\n"
          ]
        }
      ],
      "source": [
        "from IPython.display import Image\n",
        "%matplotlib inline\n",
        "\n",
        "import torch\n",
        "import torch.nn.functional as F\n",
        "import torch.nn as nn\n",
        "\n",
        "from torch_geometric.datasets import QM9\n",
        "from torch_geometric.loader import DataLoader\n",
        "from torch_geometric.nn import NNConv, global_add_pool\n",
        "\n",
        "import numpy as np\n",
        "\n",
        "print(torch.__version__)"
      ]
    },
    {
      "cell_type": "code",
      "execution_count": 23,
      "metadata": {
        "colab": {
          "base_uri": "https://localhost:8080/"
        },
        "id": "rpoHNNZ2haIe",
        "outputId": "085f3b4f-42f3-4059-8b3f-2ae645528fa3"
      },
      "outputs": [
        {
          "output_type": "execute_result",
          "data": {
            "text/plain": [
              "130831"
            ]
          },
          "metadata": {},
          "execution_count": 23
        }
      ],
      "source": [
        "# benchmark dataset QM9 (http://quantum-machine.org/datasets/.) made by small molecules with up to  23 atoms \n",
        "# (including 7 heavy atoms C, N, O, and S), 133,885 small organic molecules labeled with several geometric, \n",
        "# energetic, electronic, and thermodynamic properties\n",
        "# \n",
        "# availabel in torch geometric as benchmark datasaset\n",
        "dset = QM9('.') #download the dataset in currect directory\n",
        "len(dset)"
      ]
    },
    {
      "cell_type": "code",
      "execution_count": 19,
      "metadata": {
        "colab": {
          "base_uri": "https://localhost:8080/"
        },
        "id": "3FnKL34phaIe",
        "outputId": "322a8176-e95f-4945-c662-3d557ac5b65f"
      },
      "outputs": [
        {
          "output_type": "stream",
          "name": "stdout",
          "text": [
            "Data(x=[5, 11], edge_index=[2, 8], edge_attr=[8, 4], y=[1, 19], pos=[5, 3], idx=[1], name='gdb_1', z=[5])\n",
            "z:  tensor([6, 1, 1, 1, 1])\n"
          ]
        }
      ],
      "source": [
        "# example of how data are wrapped in torch geometric\n",
        "# the data object is a flexible wrapper for graph data\n",
        "#\n",
        "# standard keyword used by geometric: \n",
        "# x: contains node features\n",
        "# edge_attr: contains edge features\n",
        "# edge_index: includes the edge list\n",
        "# y: contains labels\n",
        "#\n",
        "# the QM9 data contains some additional specific attributes: \n",
        "# pos: the position of each of the molecules’ atoms in a 3D grid \n",
        "# z: the atomic number of each atom in the molecul.\n",
        "\n",
        "# the labels in the QM9 are physical properties of the molecules (dipole moment, free energy, enthalpy, isotropic polarization,...)\n",
        "# the task is to implement a GNN to predict isotropic polarization\n",
        "data = dset[0]\n",
        "print(data)\n",
        "\n",
        "print('z: ', data.z)"
      ]
    },
    {
      "cell_type": "code",
      "source": [
        "# it is possibile to add new attributes to the torch data wrapper\n",
        "\n",
        "data.my_attribute = torch.tensor([1, 2, 3])\n",
        "data"
      ],
      "metadata": {
        "colab": {
          "base_uri": "https://localhost:8080/"
        },
        "id": "zAABUHdWmiQ4",
        "outputId": "d062473d-997b-4fd2-ee3e-3d0634111c53"
      },
      "execution_count": 20,
      "outputs": [
        {
          "output_type": "execute_result",
          "data": {
            "text/plain": [
              "Data(x=[5, 11], edge_index=[2, 8], edge_attr=[8, 4], y=[1, 19], pos=[5, 3], idx=[1], name='gdb_1', z=[5], my_attribute=[3])"
            ]
          },
          "metadata": {},
          "execution_count": 20
        }
      ]
    },
    {
      "cell_type": "code",
      "source": [
        "# the attributes can be moved to specific devices (cpu, gpu, ...)\n",
        "device = torch.device(\"cuda:0\" if torch.cuda.is_available() else \"cpu\")\n",
        "data.to(device)\n",
        "data.my_attribute.is_cuda #check if the attribute is in the GPU"
      ],
      "metadata": {
        "colab": {
          "base_uri": "https://localhost:8080/"
        },
        "id": "XvO9cGoLmwpN",
        "outputId": "52f1784f-a518-4dc7-820a-72e55a1a0cf2"
      },
      "execution_count": 22,
      "outputs": [
        {
          "output_type": "execute_result",
          "data": {
            "text/plain": [
              "True"
            ]
          },
          "metadata": {},
          "execution_count": 22
        }
      ]
    },
    {
      "cell_type": "markdown",
      "source": [
        "Implementation of the GNN\n",
        "\n",
        "as bonding between atomes are an important feature of the properties of the molecule, the GNN shoudl use both node and edge features\n",
        "\n",
        "for this scope torch geometric makes available the **torch_geometric.nn.NNConv** layer:\n",
        "\n",
        "$X^t_i = WX^{t-1}_u + \\sum_{j \\in N(i)} X_j^{t-1} h_w(e_{i,j})$\n",
        "\n",
        "in which $W$ is the weigth matrix of the node, and $h_w$ is a neural network parametrized with teh parameters $w$.\n",
        "\n",
        "NOTE: it is very similar to the basic one we have implemented last time:\n",
        "\n",
        "$X^t_i = W_1X^{t-1}_u + \\sum_{j \\in N(i)} X_j^{t-1}W_2$\n",
        "\n",
        "with the difference that now the $W_2$ equivalent, the neural network $h$, is parametrized based on the edge labels, which allows the weights to vary for different edge labels."
      ],
      "metadata": {
        "id": "WSKo_jcroLfZ"
      }
    },
    {
      "cell_type": "code",
      "execution_count": 25,
      "metadata": {
        "id": "3rnKciNChaIf"
      },
      "outputs": [],
      "source": [
        "# Implementation\n",
        "\n",
        "class ExampleNet(torch.nn.Module):\n",
        "    def __init__(self,num_node_features,num_edge_features):\n",
        "        super().__init__()\n",
        "        conv1_net = nn.Sequential(nn.Linear(num_edge_features, 32),\n",
        "                                  nn.ReLU(),\n",
        "                                  nn.Linear(32, num_node_features*32))\n",
        "        conv2_net = nn.Sequential(nn.Linear(num_edge_features,32),\n",
        "                                  nn.ReLU(),\n",
        "                                  nn.Linear(32, 32*16))\n",
        "        \n",
        "        # NNConv arguments:\n",
        "        # in_channels: size of each input sample\n",
        "        # out_channels: size of each output sample\n",
        "        # a torch.nn.Module neural network representing h_w\n",
        "        # aggr: aggergation scheme (def: 'add', 'mean', 'max') \n",
        "        self.conv1 = NNConv(num_node_features, 32, conv1_net)\n",
        "        self.conv2 = NNConv(32, 16, conv2_net)\n",
        "        self.fc_1 = nn.Linear(16, 32)\n",
        "        self.out = nn.Linear(32, 1)\n",
        "        \n",
        "    def forward(self, data):\n",
        "        batch, x, edge_index, edge_attr=data.batch, data.x, data.edge_index, data.edge_attr\n",
        "        x = F.relu(self.conv1(x, edge_index, edge_attr))\n",
        "        x = F.relu(self.conv2(x, edge_index, edge_attr))\n",
        "        # torch_geometric.nn.global_add_pool: returns batch-wise graph-level-outputs by adding node features across \n",
        "        # the node dimension, so that for each single graph its output is computed by\n",
        "        # https://pytorch-geometric.readthedocs.io/en/latest/modules/nn.html#global-pooling-layers\n",
        "        x = global_add_pool(x,batch)\n",
        "        x = F.relu(self.fc_1(x))\n",
        "        output = self.out(x)\n",
        "        return output"
      ]
    },
    {
      "cell_type": "code",
      "execution_count": 26,
      "metadata": {
        "id": "m9-nx9zehaIg"
      },
      "outputs": [],
      "source": [
        "# split the dataset in train, validation, test\n",
        "from torch.utils.data import random_split\n",
        "\n",
        "\n",
        "train_set, valid_set, test_set = random_split(dset,[110000, 10831, 10000])\n",
        "\n",
        "trainloader = DataLoader(train_set, batch_size=32, shuffle=True)\n",
        "validloader = DataLoader(valid_set, batch_size=32, shuffle=True)\n",
        "testloader = DataLoader(test_set, batch_size=32, shuffle=True)"
      ]
    },
    {
      "cell_type": "code",
      "execution_count": 27,
      "metadata": {
        "id": "QLogmQfrhaIg"
      },
      "outputs": [],
      "source": [
        "# initialize the GNN\n",
        "qm9_node_feats, qm9_edge_feats = 11, 4\n",
        "epochs = 4\n",
        "net = ExampleNet(qm9_node_feats, qm9_edge_feats)\n",
        "\n",
        "optimizer = torch.optim.Adam(net.parameters(), lr=0.01)\n",
        "epochs = 4\n",
        "target_idx = 1 # index position of the polarizability label"
      ]
    },
    {
      "cell_type": "code",
      "execution_count": 28,
      "metadata": {
        "colab": {
          "base_uri": "https://localhost:8080/"
        },
        "id": "1n-Tyu2XhaIg",
        "outputId": "6746daba-0f8f-4912-b070-7ee011c43320"
      },
      "outputs": [
        {
          "output_type": "execute_result",
          "data": {
            "text/plain": [
              "ExampleNet(\n",
              "  (conv1): NNConv(11, 32, aggr=add, nn=Sequential(\n",
              "    (0): Linear(in_features=4, out_features=32, bias=True)\n",
              "    (1): ReLU()\n",
              "    (2): Linear(in_features=32, out_features=352, bias=True)\n",
              "  ))\n",
              "  (conv2): NNConv(32, 16, aggr=add, nn=Sequential(\n",
              "    (0): Linear(in_features=4, out_features=32, bias=True)\n",
              "    (1): ReLU()\n",
              "    (2): Linear(in_features=32, out_features=512, bias=True)\n",
              "  ))\n",
              "  (fc_1): Linear(in_features=16, out_features=32, bias=True)\n",
              "  (out): Linear(in_features=32, out_features=1, bias=True)\n",
              ")"
            ]
          },
          "metadata": {},
          "execution_count": 28
        }
      ],
      "source": [
        "# move model to device\n",
        "device = torch.device(\"cuda:0\" if torch.cuda.is_available() else \"cpu\")\n",
        "net.to(device)"
      ]
    },
    {
      "cell_type": "code",
      "execution_count": 29,
      "metadata": {
        "scrolled": true,
        "colab": {
          "base_uri": "https://localhost:8080/"
        },
        "id": "xt_eXLhIhaIg",
        "outputId": "2ace0cf4-7619-45ad-db84-3ec4b2b525c1"
      },
      "outputs": [
        {
          "output_type": "stream",
          "name": "stdout",
          "text": [
            "Epochs: 0 | epoch avg. loss: 0.43 | validation avg. loss: 0.16\n",
            "Epochs: 1 | epoch avg. loss: 0.13 | validation avg. loss: 0.08\n",
            "Epochs: 2 | epoch avg. loss: 0.10 | validation avg. loss: 0.07\n",
            "Epochs: 3 | epoch avg. loss: 0.09 | validation avg. loss: 0.10\n"
          ]
        }
      ],
      "source": [
        "# training loop\n",
        "for total_epochs in range(epochs):\n",
        "    \n",
        "    epoch_loss = 0\n",
        "    total_graphs = 0\n",
        "    net.train()\n",
        "    for batch in trainloader:\n",
        "        batch.to(device)\n",
        "        optimizer.zero_grad()\n",
        "        output = net(batch)\n",
        "\n",
        "        # as this is a regression task (predict the polarizability) we use MSE as loss\n",
        "        loss = F.mse_loss(output, batch.y[:, target_idx].unsqueeze(1))\n",
        "        loss.backward()\n",
        "        epoch_loss += loss.item()\n",
        "        total_graphs += batch.num_graphs\n",
        "        optimizer.step()\n",
        "    \n",
        "    train_avg_loss = epoch_loss / total_graphs\n",
        "    val_loss = 0\n",
        "    total_graphs = 0\n",
        "    net.eval()\n",
        "    for batch in validloader:\n",
        "        batch.to(device)\n",
        "        output = net(batch)\n",
        "        loss = F.mse_loss(output,batch.y[:, target_idx].unsqueeze(1))\n",
        "        val_loss += loss.item()\n",
        "        total_graphs += batch.num_graphs\n",
        "    val_avg_loss = val_loss / total_graphs\n",
        "    \n",
        "    \n",
        "    print(f\"Epochs: {total_epochs} | epoch avg. loss: {train_avg_loss:.2f} | validation avg. loss: {val_avg_loss:.2f}\")"
      ]
    },
    {
      "cell_type": "code",
      "execution_count": 30,
      "metadata": {
        "scrolled": true,
        "id": "BG7kqG9yhaIh"
      },
      "outputs": [],
      "source": [
        "# performances on test set\n",
        "net.eval()\n",
        "predictions = []\n",
        "real = []\n",
        "\n",
        "for batch in testloader:\n",
        "    \n",
        "    output = net(batch.to(device))\n",
        "    predictions.append(output.detach().cpu().numpy())\n",
        "    real.append(batch.y[:, target_idx].detach().cpu().numpy())\n",
        "\n",
        "predictions = np.concatenate(predictions)\n",
        "real = np.concatenate(real)"
      ]
    },
    {
      "cell_type": "code",
      "execution_count": 31,
      "metadata": {
        "colab": {
          "base_uri": "https://localhost:8080/",
          "height": 297
        },
        "id": "HzBNDckShaIh",
        "outputId": "82d06fa9-8b7a-45de-bd27-9b2643ee7720"
      },
      "outputs": [
        {
          "output_type": "execute_result",
          "data": {
            "text/plain": [
              "Text(0.5, 0, 'Isotropic polarizability')"
            ]
          },
          "metadata": {},
          "execution_count": 31
        },
        {
          "output_type": "display_data",
          "data": {
            "text/plain": [
              "<Figure size 432x288 with 1 Axes>"
            ],
            "image/png": "[encoded data removed]"
          },
          "metadata": {
            "needs_background": "light"
          }
        }
      ],
      "source": [
        "import matplotlib.pyplot as plt\n",
        "\n",
        "\n",
        "plt.scatter(real[:500],predictions[:500])\n",
        "plt.ylabel('Predicted isotropic polarizability')\n",
        "plt.xlabel('Isotropic polarizability')"
      ]
    }
  ],
  "metadata": {
    "kernelspec": {
      "display_name": "Python 3 (ipykernel)",
      "language": "python",
      "name": "python3"
    },
    "language_info": {
      "codemirror_mode": {
        "name": "ipython",
        "version": 3
      },
      "file_extension": ".py",
      "mimetype": "text/x-python",
      "name": "python",
      "nbconvert_exporter": "python",
      "pygments_lexer": "ipython3",
      "version": "3.9.6"
    },
    "colab": {
      "name": "example_GNN_torchgeometric.ipynb",
      "provenance": [],
      "collapsed_sections": [],
      "include_colab_link": true
    },
    "accelerator": "GPU"
  },
  "nbformat": 4,
  "nbformat_minor": 0
}